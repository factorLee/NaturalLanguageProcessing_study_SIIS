{
 "metadata": {
  "language_info": {
   "codemirror_mode": {
    "name": "ipython",
    "version": 3
   },
   "file_extension": ".py",
   "mimetype": "text/x-python",
   "name": "python",
   "nbconvert_exporter": "python",
   "pygments_lexer": "ipython3",
   "version": "3.8.2"
  },
  "orig_nbformat": 4,
  "kernelspec": {
   "name": "python3",
   "display_name": "Python 3.8.2 64-bit ('nlp_venv': venv)"
  },
  "interpreter": {
   "hash": "c5bb568613df96b41fc591cb9e898f2d5335964303d283cb3431c794424e4229"
  }
 },
 "nbformat": 4,
 "nbformat_minor": 2,
 "cells": [
  {
   "source": [
    "## nlp_regex_study.ipynb\n",
    "- regex : [Regular Expressions](https://regexr.com/)\n",
    "    - 핸드폰 번호, 이메일 주소 등의 특정 패턴을 찾고자 할 때 사용 (특정 부분을 찾는다)\n"
   ],
   "cell_type": "markdown",
   "metadata": {}
  },
  {
   "cell_type": "code",
   "execution_count": 2,
   "metadata": {},
   "outputs": [],
   "source": [
    "import re"
   ]
  },
  {
   "cell_type": "code",
   "execution_count": 7,
   "metadata": {},
   "outputs": [
    {
     "output_type": "execute_result",
     "data": {
      "text/plain": [
       "['abc', 'abc']"
      ]
     },
     "metadata": {},
     "execution_count": 7
    }
   ],
   "source": [
    "re.findall(\"abc\", \"daslkfjoiabcwqehjoifsabc\") # abc 찾기"
   ]
  },
  {
   "cell_type": "code",
   "execution_count": 14,
   "metadata": {},
   "outputs": [
    {
     "output_type": "execute_result",
     "data": {
      "text/plain": [
       "['abc', 'abc', 'abc']"
      ]
     },
     "metadata": {},
     "execution_count": 14
    }
   ],
   "source": [
    "iterator = re.findall(\"abc\", \"sdajfioabcjadfoiabcdlajofawpabcj\")\n",
    "iterator"
   ]
  },
  {
   "cell_type": "code",
   "execution_count": 17,
   "metadata": {},
   "outputs": [
    {
     "output_type": "stream",
     "name": "stdout",
     "text": [
      "abc\nabc\nabc\n"
     ]
    }
   ],
   "source": [
    "for match in iterator: \n",
    "    print(match)"
   ]
  },
  {
   "cell_type": "code",
   "execution_count": 24,
   "metadata": {},
   "outputs": [
    {
     "output_type": "execute_result",
     "data": {
      "text/plain": [
       "['a', 'a', 'b', 'c', 'a', 'b', 'c']"
      ]
     },
     "metadata": {},
     "execution_count": 24
    }
   ],
   "source": [
    "# [] : 일치시키려는 문자 집합인 쿤자 클래스를 지정하는데 사용 (한글자씩)\n",
    "re.findall(\"[abc]\", \"daslkfjoiabcwqehjoifsabc\") "
   ]
  },
  {
   "cell_type": "code",
   "execution_count": 25,
   "metadata": {},
   "outputs": [
    {
     "output_type": "execute_result",
     "data": {
      "text/plain": [
       "['a', 'a', 'b', 'c', 'a', 'b', 'c']"
      ]
     },
     "metadata": {},
     "execution_count": 25
    }
   ],
   "source": [
    "# 범위지정\n",
    "re.findall(\"[a-c]\", \"daslkfjoiabcwqehjoifsabc\") "
   ]
  },
  {
   "cell_type": "code",
   "execution_count": 34,
   "metadata": {},
   "outputs": [
    {
     "output_type": "execute_result",
     "data": {
      "text/plain": [
       "(['3', '5', '3', '4', '2', '3', '4'], list)"
      ]
     },
     "metadata": {},
     "execution_count": 34
    }
   ],
   "source": [
    "# 퀴즈 1 : 제시한 문자열에서 숫자들의 갯수\n",
    "re.findall(\"[0-9]\", \"asdfjl;ajdf;la3534l2k3o;lkdagj;qi4touoq\"), type(re.findall(\"[0-9]\", \"asdfjl;ajdf;la3534l2k3o;lkdagj;qi4touoq\"))\n"
   ]
  },
  {
   "cell_type": "code",
   "execution_count": 35,
   "metadata": {},
   "outputs": [
    {
     "output_type": "execute_result",
     "data": {
      "text/plain": [
       "7"
      ]
     },
     "metadata": {},
     "execution_count": 35
    }
   ],
   "source": [
    "len(re.findall(\"[0-9]\", \"asdfjl;ajdf;la3534l2k3o;lkdagj;qi4touoq\") )\n"
   ]
  },
  {
   "cell_type": "code",
   "execution_count": 40,
   "metadata": {},
   "outputs": [
    {
     "output_type": "execute_result",
     "data": {
      "text/plain": [
       "['3534']"
      ]
     },
     "metadata": {},
     "execution_count": 40
    }
   ],
   "source": [
    "# 퀴즈 2 : 숫자가 4개가 이어진 부분을 찾아라.\n",
    "re.findall(\"[0-9][0-9][0-9][0-9]\", \"asdfjl;ajdf;la3534l2k3o;lkdagj;qi4touoq\")"
   ]
  },
  {
   "cell_type": "code",
   "execution_count": 42,
   "metadata": {},
   "outputs": [
    {
     "output_type": "stream",
     "name": "stdout",
     "text": [
      "찾았다.\n"
     ]
    }
   ],
   "source": [
    "if len(re.findall(\"[0-9][0-9][0-9][0-9]\", \"asdfjl;ajdf;la3534l2k3o;lkdagj;qi4touoq\")) > 0:\n",
    "    print(\"찾았다.\")\n",
    "else:\n",
    "    print(\"없다!\")"
   ]
  },
  {
   "cell_type": "code",
   "execution_count": 44,
   "metadata": {},
   "outputs": [
    {
     "output_type": "execute_result",
     "data": {
      "text/plain": [
       "str"
      ]
     },
     "metadata": {},
     "execution_count": 44
    }
   ],
   "source": [
    "documents = ['asdfj;laieorkdjf;aliejr;akjdf23k4j;lajds;l',\n",
    "            'asdfjoqweitulad;ai@weutadg;lajoetiuaodkgjier',\n",
    "            'asdkfjqoitlskdnfoqwiekhas;ioew=adgoie',\n",
    "            'askdfl_asdkfei_asdjkfla****askeasfff',\n",
    "            '{{{{{asdfjowei@@##askdfoie}}}}}']\n",
    "\n",
    "regExp = '[0-9:\"{}()@#&]'\n",
    "type(regExp)"
   ]
  },
  {
   "cell_type": "code",
   "execution_count": 47,
   "metadata": {},
   "outputs": [
    {
     "output_type": "stream",
     "name": "stdout",
     "text": [
      "asdkfjqoitlskdnfoqwiekhas;ioew=adgoie\naskdfl_asdkfei_asdjkfla****askeasfff\n"
     ]
    }
   ],
   "source": [
    "for doc in documents:\n",
    "    if len(re.findall(regExp, doc)) > 0: # rexExp가 있으면 넘어가고 없으면 출력\n",
    "        pass\n",
    "    else:\n",
    "        print(doc)"
   ]
  },
  {
   "cell_type": "code",
   "execution_count": 48,
   "metadata": {},
   "outputs": [],
   "source": [
    "# ^ : 지정한 클래스에 해당되지 않는 것을 찾는다.\n",
    "regExp02 = '[^0-9:\"{}()@#&]'\n",
    "for doc in documents:\n",
    "    if len(re.findall(regExp02, doc)) > 0: # rexExp가 있으면 넘어가고 없으면 출력\n",
    "        pass\n",
    "    else:\n",
    "        print(doc)"
   ]
  },
  {
   "cell_type": "code",
   "execution_count": 74,
   "metadata": {},
   "outputs": [
    {
     "output_type": "stream",
     "name": "stdout",
     "text": [
      "7\n"
     ]
    }
   ],
   "source": [
    "# \\ \n",
    "# 퀴즈 3 : doc에서 모든 \\를 찾아보아라\n",
    "doc = r\"\\n for new [line, ] \\section and \\document and \\\\\\section \\n\"\n",
    "\n",
    "regExp = \"[\\\\\\]\" \n",
    "print(len(re.findall(regExp, doc)))"
   ]
  },
  {
   "cell_type": "code",
   "execution_count": 75,
   "metadata": {},
   "outputs": [
    {
     "output_type": "stream",
     "name": "stdout",
     "text": [
      "\\selection\n"
     ]
    }
   ],
   "source": [
    "print(\"\\\\selection\")    # \\\\ => \\"
   ]
  },
  {
   "cell_type": "code",
   "execution_count": 86,
   "metadata": {},
   "outputs": [
    {
     "output_type": "stream",
     "name": "stdout",
     "text": [
      "9\n"
     ]
    }
   ],
   "source": [
    "# 퀴즈 : \\랑 [ ]를 가진 부분을 찾아주세요. : 9개\n",
    "doc = r\"\\n for new [line, ] \\section and \\document and \\\\\\section \\n\"\n",
    "\n",
    "regExp = \"[\\[\\]\\\\\\]\"\n",
    "print(len(re.findall(regExp, doc)))\n",
    "# 특수 문자를 \\ 로 구분을 준다"
   ]
  },
  {
   "cell_type": "code",
   "execution_count": 100,
   "metadata": {},
   "outputs": [
    {
     "output_type": "stream",
     "name": "stdout",
     "text": [
      "['\\\\section', '\\\\section']\n"
     ]
    }
   ],
   "source": [
    "# 퀴즈 : \\selction 부분을 찾아라.\n",
    "\n",
    "doc = r\"\\n for new [line, ] \\section and \\document and \\\\\\section \\n\"\n",
    "\n",
    "regExp = \"[\\\\\\]section\"\n",
    "print(re.findall(regExp, doc))"
   ]
  },
  {
   "cell_type": "code",
   "execution_count": 116,
   "metadata": {},
   "outputs": [],
   "source": [
    "# \\d : 모든 숫자 0-9와 같다. [0-9]\n",
    "# \\D : [^0-9] \n",
    "# \\s : 모든 공백 문자를 의미 [\\t\\n\\r\\f\\v]와 동일\n",
    "# \\S : [^\\t\\n\\r\\f\\v]\n",
    "# \\w : 모든 영문자 + 숫자 + underscore _ [a-zA-Z0-9]\n",
    "# \\W : [^a-zA-Z0-9]\n"
   ]
  },
  {
   "cell_type": "code",
   "execution_count": 108,
   "metadata": {},
   "outputs": [
    {
     "output_type": "stream",
     "name": "stdout",
     "text": [
      "[';', ';', ';', ';', ';']\n[';', '@', ';']\n[';', '=']\n['*', '*', '*', '*']\n['{', '{', '{', '{', '{', '@', '@', '#', '#', '}', '}', '}', '}', '}']\n"
     ]
    }
   ],
   "source": [
    "documents = ['asdfj;laieorkdjf;aliejr;akjdf23k4j;lajds;l',\n",
    "            'asdfjoqweitulad;ai@weutadg;lajoetiuaodkgjier',\n",
    "            'asdkfjqoitlskdnfoqwiekhas;ioew=adgoie',\n",
    "            'askdfl_asdkfei_asdjkfla****askeasfff',\n",
    "            '{{{{{asdfjowei@@##askdfoie}}}}}']\n",
    "\n",
    "regExp = '[\\W]'\n",
    "\n",
    "for line in documents:\n",
    "    rs = re.findall(regExp, line)\n",
    "    print(rs)"
   ]
  },
  {
   "cell_type": "code",
   "execution_count": 115,
   "metadata": {},
   "outputs": [
    {
     "output_type": "stream",
     "name": "stdout",
     "text": [
      "['Yahoo', 'Yahooo', 'Yahoooo', 'Yahooooo', 'Yaho']\n"
     ]
    }
   ],
   "source": [
    "# * : *앞에 있는 문자가 없거나 갯수와 상관없이 찾는다. (유사한 애들 다 찾아라.)\n",
    "doc = \"YahooYahoooYahooooYahoooooYaho\"\n",
    "regExp = \"Yahoo*\"\n",
    "rs = re.findall(regExp, doc)\n",
    "print(rs)"
   ]
  },
  {
   "cell_type": "code",
   "execution_count": 121,
   "metadata": {},
   "outputs": [
    {
     "output_type": "stream",
     "name": "stdout",
     "text": [
      "['asdfj', '', 'laieorkdjf', '', 'aliejr', '', 'akjdf23k4j', '', 'lajds', '', 'l', '']\n['asdfjoqweitulad', '', 'ai', '', 'weutadg', '', 'lajoetiuaodkgjier', '']\n['asdkfjqoitlskdnfoqwiekhas', '', 'ioew', '', 'adgoie', '']\n['askdfl_asdkfei_asdjkfla', '', '', '', '', 'askeasfff', '']\n['', '', '', '', '', 'asdfjowei', '', '', '', '', 'askdfoie', '', '', '', '', '', '']\n"
     ]
    }
   ],
   "source": [
    "# *는 가능한 이어진 형태를 유지할 수 있음 : Greedy matching\n",
    "documents = ['asdfj;laieorkdjf;aliejr;akjdf23k4j;lajds;l',\n",
    "            'asdfjoqweitulad;ai@weutadg;lajoetiuaodkgjier',\n",
    "            'asdkfjqoitlskdnfoqwiekhas;ioew=adgoie',\n",
    "            'askdfl_asdkfei_asdjkfla****askeasfff',\n",
    "            '{{{{{asdfjowei@@##askdfoie}}}}}']\n",
    "\n",
    "regExp = '[\\w]*'\n",
    "\n",
    "for line in documents:\n",
    "    rs = re.findall(regExp, line)\n",
    "    print(rs)"
   ]
  },
  {
   "cell_type": "code",
   "execution_count": 124,
   "metadata": {},
   "outputs": [
    {
     "output_type": "stream",
     "name": "stdout",
     "text": [
      "['Yahoo', 'Yahooo', 'Yahoooo', 'Yahooooo']\n"
     ]
    }
   ],
   "source": [
    "# + : 앞에 있는 문자가 최소 1개 갯수를 포함하여야 한다. \n",
    "doc = \"YahooYahoooYahooooYahoooooYaho\"\n",
    "regExp = \"Yahoo+\"\n",
    "rs = re.findall(regExp, doc)\n",
    "print(rs)"
   ]
  },
  {
   "cell_type": "code",
   "execution_count": 132,
   "metadata": {},
   "outputs": [
    {
     "output_type": "stream",
     "name": "stdout",
     "text": [
      "['Yahoo', 'Yahoo', 'Yahoo', 'Yahoo']\n"
     ]
    }
   ],
   "source": [
    "# ? : ? 뒤에 문자가 없거나 존재하는 것을 계속 확인\n",
    "doc = \"YahooYahoooYahooooYahoooooYaho\"\n",
    "regExp = \"Yah?oo\" # Yahoo 라는 패턴이 있는 것을 다 찾아라\n",
    "rs = re.findall(regExp, doc)\n",
    "print(rs)"
   ]
  },
  {
   "cell_type": "code",
   "execution_count": 139,
   "metadata": {},
   "outputs": [
    {
     "output_type": "stream",
     "name": "stdout",
     "text": [
      "['43', '23', '42', '23']\n['32', '42', '42']\n['32']\n['42', '22', '52']\n[]\n"
     ]
    }
   ],
   "source": [
    "# {m, n}\n",
    "documents = ['asdfj;laieorkdjf;aliejr;akjd4323423f23k4j;lajds;l',\n",
    "            'asdfjoqweit32ulad;ai@we4242utadg;lajoetiuaodkgjier',\n",
    "            'asdkfjqo32itlskdnfoqwiekhas;ioew=adgoie',\n",
    "            'askd2fl_asdkfei_asdjkf4222la****a52skeasfff',\n",
    "            '{{{{{asdfjowei@@##askdfoi2e}}}}}']\n",
    "\n",
    "regExp = '\\d{2}' # {0,} = *, {1,} = +, {0,1} = ?\n",
    "\n",
    "for line in documents:\n",
    "    rs = re.findall(regExp, line)\n",
    "    print(rs)"
   ]
  },
  {
   "cell_type": "code",
   "execution_count": null,
   "metadata": {},
   "outputs": [],
   "source": []
  }
 ]
}